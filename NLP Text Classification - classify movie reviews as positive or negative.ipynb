{
 "cells": [
  {
   "cell_type": "markdown",
   "metadata": {},
   "source": [
    "# NLP Text Classification"
   ]
  },
  {
   "cell_type": "markdown",
   "metadata": {},
   "source": [
    "## classify movie reviews as positive or negative"
   ]
  },
  {
   "cell_type": "code",
   "execution_count": 8,
   "metadata": {
    "scrolled": false
   },
   "outputs": [
    {
     "name": "stdout",
     "output_type": "stream",
     "text": [
      "Index(['label', 'review'], dtype='object') \n",
      "\n",
      "27 blank reviews should be removed:  [57, 71, 147, 151, 283, 307, 313, 323, 343, 351, 427, 501, 633, 675, 815, 851, 977, 1079, 1299, 1455, 1493, 1525, 1531, 1763, 1851, 1905, 1993] \n",
      "\n",
      "             precision    recall  f1-score   support\n",
      "\n",
      "        neg       0.69      0.93      0.79       308\n",
      "        pos       0.91      0.61      0.73       332\n",
      "\n",
      "avg / total       0.80      0.76      0.76       640\n",
      "\n",
      "[[287  21]\n",
      " [130 202]] \n",
      "\n",
      "accuracy score: 0.7640625 \n",
      "\n",
      "             precision    recall  f1-score   support\n",
      "\n",
      "        neg       0.84      0.84      0.84       308\n",
      "        pos       0.85      0.85      0.85       332\n",
      "\n",
      "avg / total       0.85      0.85      0.85       640\n",
      "\n",
      "[[259  49]\n",
      " [ 49 283]] \n",
      "\n",
      "accuracy score: 0.846875\n"
     ]
    }
   ],
   "source": [
    "#imports\n",
    "import numpy as np\n",
    "import pandas as pd\n",
    "\n",
    "#data\n",
    "df = pd.read_csv('../UPDATED_NLP_COURSE/TextFiles/moviereviews.tsv', sep='\\t')\n",
    "print(df.columns, '\\n')\n",
    "df.isnull().sum()\n",
    "df.dropna(inplace=True)\n",
    "blanks = []\n",
    "for i,lb,rv in df.itertuples():  \n",
    "    if type(rv)==str:          \n",
    "        if rv.isspace():        \n",
    "            blanks.append(i)     \n",
    "print(len(blanks), 'blank reviews should be removed: ', blanks, '\\n')\n",
    "df.drop(blanks, inplace=True)\n",
    "\n",
    "#split\n",
    "X = df['review']\n",
    "y = df['label']\n",
    "from sklearn.model_selection import train_test_split\n",
    "X_train, X_test, y_train, y_test = train_test_split(X, y, test_size=0.33, random_state=42)\n",
    "\n",
    "# naive model\n",
    "from sklearn.pipeline import Pipeline\n",
    "from sklearn.feature_extraction.text import TfidfVectorizer\n",
    "from sklearn.naive_bayes import MultinomialNB\n",
    "from sklearn.svm import LinearSVC\n",
    "text_clf_nb = Pipeline([('tfidf', TfidfVectorizer()),('clf', MultinomialNB()),])\n",
    "text_clf_lsvc = Pipeline([('tfidf', TfidfVectorizer()),('clf', LinearSVC()),])\n",
    "text_clf_nb.fit(X_train, y_train)\n",
    "predictions = text_clf_nb.predict(X_test)\n",
    "\n",
    "#naive evaluation\n",
    "from sklearn import metrics\n",
    "print(metrics.classification_report(y_test,predictions))\n",
    "print(metrics.confusion_matrix(y_test,predictions), '\\n')\n",
    "print('accuracy score:', metrics.accuracy_score(y_test,predictions), '\\n')\n",
    "\n",
    "#svm model\n",
    "text_clf_lsvc.fit(X_train, y_train)\n",
    "predictions = text_clf_lsvc.predict(X_test)\n",
    "\n",
    "#svm evaluation\n",
    "print(metrics.classification_report(y_test,predictions))\n",
    "print(metrics.confusion_matrix(y_test,predictions), '\\n')\n",
    "print('accuracy score:', metrics.accuracy_score(y_test,predictions))"
   ]
  }
 ],
 "metadata": {
  "kernelspec": {
   "display_name": "Python 3",
   "language": "python",
   "name": "python3"
  },
  "language_info": {
   "codemirror_mode": {
    "name": "ipython",
    "version": 3
   },
   "file_extension": ".py",
   "mimetype": "text/x-python",
   "name": "python",
   "nbconvert_exporter": "python",
   "pygments_lexer": "ipython3",
   "version": "3.6.8"
  }
 },
 "nbformat": 4,
 "nbformat_minor": 2
}
