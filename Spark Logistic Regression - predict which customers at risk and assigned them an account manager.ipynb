{
 "cells": [
  {
   "cell_type": "markdown",
   "metadata": {},
   "source": [
    "# Spark Logistic Regression"
   ]
  },
  {
   "cell_type": "markdown",
   "metadata": {},
   "source": [
    "## predict which customers at risk and assigned them an account manager"
   ]
  },
  {
   "cell_type": "code",
   "execution_count": 8,
   "metadata": {
    "scrolled": true
   },
   "outputs": [
    {
     "name": "stdout",
     "output_type": "stream",
     "text": [
      "['Names', 'Age', 'Total_Purchase', 'Account_Manager', 'Years', 'Num_Sites', 'Onboard_date', 'Location', 'Company', 'Churn'] \n",
      "\n",
      "y_true vs y_hat statistics:\n",
      "+-------+-------------------+-------------------+\n",
      "|summary|              Churn|         prediction|\n",
      "+-------+-------------------+-------------------+\n",
      "|  count|                267|                267|\n",
      "|   mean|0.20224719101123595|0.14606741573033707|\n",
      "| stddev| 0.4024298924858095|0.35383702753467533|\n",
      "|    min|                  0|                0.0|\n",
      "|    max|                  1|                1.0|\n",
      "+-------+-------------------+-------------------+\n",
      "\n",
      "area under curve:  0.7682576943140323\n",
      "accuracy:  0.8838951310861424\n",
      "f1 score:  0.8765064078065683 \n",
      "\n",
      "account manager assignment table:\n",
      "+----------------+----------+\n",
      "|         Company|prediction|\n",
      "+----------------+----------+\n",
      "|        King Ltd|       0.0|\n",
      "|   Cannon-Benson|       1.0|\n",
      "|Barron-Robertson|       1.0|\n",
      "|   Sexton-Golden|       1.0|\n",
      "|        Wood LLC|       0.0|\n",
      "|   Parks-Robbins|       1.0|\n",
      "+----------------+----------+\n",
      "\n"
     ]
    }
   ],
   "source": [
    "#imports\n",
    "from pyspark.sql import SparkSession\n",
    "spark = SparkSession.builder.appName('marketing').getOrCreate()\n",
    "\n",
    "#data\n",
    "df = spark.read.csv('../Python-and-Spark-for-Big-Data-master/Spark_for_Machine_Learning/Logistic_Regression/customer_churn.csv',inferSchema=True,header=True)\n",
    "print(df.columns, '\\n')\n",
    "from pyspark.ml.feature import VectorAssembler\n",
    "assembler = VectorAssembler(inputCols=['Age','Total_Purchase','Years','Num_Sites'], outputCol='features')\n",
    "output = assembler.transform(df)\n",
    "\n",
    "#split\n",
    "model_df = output.select(['features','Churn'])\n",
    "train, test = model_df.randomSplit([0.7,0.3])\n",
    "\n",
    "#model\n",
    "from pyspark.ml.classification import LogisticRegression\n",
    "log_r = LogisticRegression(labelCol='Churn')\n",
    "model = log_r.fit(train)\n",
    "results = model.evaluate(test)\n",
    "\n",
    "#evaluation\n",
    "print('y_true vs y_hat statistics:')\n",
    "results.predictions.describe().show()\n",
    "from pyspark.ml.evaluation import BinaryClassificationEvaluator\n",
    "evaluator = BinaryClassificationEvaluator(rawPredictionCol='prediction',labelCol='Churn')\n",
    "auc = evaluator.evaluate(results.predictions)\n",
    "from pyspark.ml.evaluation import MulticlassClassificationEvaluator\n",
    "accuracy = MulticlassClassificationEvaluator(predictionCol='prediction',labelCol='Churn',metricName='accuracy')\n",
    "f1 = MulticlassClassificationEvaluator(predictionCol='prediction',labelCol='Churn',metricName='f1')\n",
    "acc = accuracy.evaluate(results.predictions)\n",
    "f1_score = f1.evaluate(results.predictions)\n",
    "print('area under curve: ',auc)\n",
    "print('accuracy: ',acc)\n",
    "print('f1 score: ',f1_score, '\\n')\n",
    "\n",
    "#prediction\n",
    "model = log_r.fit(model_df)\n",
    "df_new = spark.read.csv('../Python-and-Spark-for-Big-Data-master/Spark_for_Machine_Learning/Logistic_Regression/new_customers.csv',header=True,inferSchema=True)\n",
    "output_new = assembler.transform(df_new)\n",
    "results_new = model.transform(output_new)\n",
    "print('account manager assignment table:')\n",
    "results_new.select(['Company','prediction']).show()"
   ]
  }
 ],
 "metadata": {},
 "nbformat": 4,
 "nbformat_minor": 2
}
