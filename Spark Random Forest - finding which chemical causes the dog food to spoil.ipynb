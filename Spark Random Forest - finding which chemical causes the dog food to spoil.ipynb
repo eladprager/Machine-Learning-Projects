{
 "cells": [
  {
   "cell_type": "markdown",
   "metadata": {},
   "source": [
    "# Spark Random Forest"
   ]
  },
  {
   "cell_type": "markdown",
   "metadata": {},
   "source": [
    "## finding which chemical causes the dog food to spoil"
   ]
  },
  {
   "cell_type": "code",
   "execution_count": 4,
   "metadata": {
    "scrolled": true
   },
   "outputs": [
    {
     "name": "stdout",
     "output_type": "stream",
     "text": [
      "['A', 'B', 'C', 'D', 'Spoiled'] \n",
      "\n",
      "the chemical that has the strongest spoiling effect:\n"
     ]
    },
    {
     "data": {
      "text/plain": [
       "SparseVector(4, {0: 0.0193, 1: 0.0231, 2: 0.9366, 3: 0.021})"
      ]
     },
     "execution_count": 4,
     "metadata": {},
     "output_type": "execute_result"
    }
   ],
   "source": [
    "#import\n",
    "from pyspark.sql import SparkSession\n",
    "spark = SparkSession.builder.appName('dogfood').getOrCreate()\n",
    "\n",
    "#data\n",
    "df = spark.read.csv('../Python-and-Spark-for-Big-Data-master/Spark_for_Machine_Learning/Tree_Methods/dog_food.csv',inferSchema=True,header=True)\n",
    "print(df.columns, '\\n')\n",
    "from pyspark.ml.feature import VectorAssembler\n",
    "assembler = VectorAssembler(inputCols=['A','B','C','D'], outputCol='features')\n",
    "output = assembler.transform(df)\n",
    "final_df = output.select(['features','Spoiled'])\n",
    "\n",
    "#model\n",
    "from pyspark.ml.classification import RandomForestClassifier\n",
    "rfc = RandomForestClassifier(labelCol='Spoiled')\n",
    "model = rfc.fit(final_df)\n",
    "\n",
    "#results\n",
    "print('the chemical that has the strongest spoiling effect:')\n",
    "model.featureImportances"
   ]
  }
 ],
 "metadata": {
  "kernelspec": {
   "display_name": "Python 3",
   "language": "python",
   "name": "python3"
  },
  "language_info": {
   "codemirror_mode": {
    "name": "ipython",
    "version": 3
   },
   "file_extension": ".py",
   "mimetype": "text/x-python",
   "name": "python",
   "nbconvert_exporter": "python",
   "pygments_lexer": "ipython3",
   "version": "3.6.8"
  }
 },
 "nbformat": 4,
 "nbformat_minor": 2
}
