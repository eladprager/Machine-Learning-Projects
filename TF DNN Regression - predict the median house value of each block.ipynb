{
 "cells": [
  {
   "cell_type": "markdown",
   "metadata": {},
   "source": [
    "# TensorFlow DNN Regression"
   ]
  },
  {
   "cell_type": "markdown",
   "metadata": {},
   "source": [
    "## predict the median house value of each block"
   ]
  },
  {
   "cell_type": "code",
   "execution_count": 6,
   "metadata": {},
   "outputs": [
    {
     "name": "stdout",
     "output_type": "stream",
     "text": [
      "Index(['housingMedianAge', 'totalRooms', 'totalBedrooms', 'population',\n",
      "       'households', 'medianIncome', 'medianHouseValue'],\n",
      "      dtype='object') \n",
      "\n",
      "INFO:tensorflow:Using default config.\n",
      "WARNING:tensorflow:Using temporary folder as model directory: C:\\Users\\PERGO_~1\\AppData\\Local\\Temp\\tmp37ur4vub\n",
      "INFO:tensorflow:Using config: {'_log_step_count_steps': 100, '_save_summary_steps': 100, '_save_checkpoints_secs': 600, '_session_config': None, '_keep_checkpoint_every_n_hours': 10000, '_save_checkpoints_steps': None, '_model_dir': 'C:\\\\Users\\\\PERGO_~1\\\\AppData\\\\Local\\\\Temp\\\\tmp37ur4vub', '_keep_checkpoint_max': 5, '_tf_random_seed': 1}\n",
      "INFO:tensorflow:Create CheckpointSaverHook.\n",
      "INFO:tensorflow:Saving checkpoints for 1 into C:\\Users\\PERGO_~1\\AppData\\Local\\Temp\\tmp37ur4vub\\model.ckpt.\n",
      "INFO:tensorflow:loss = 7.8033e+11, step = 1\n",
      "INFO:tensorflow:global_step/sec: 380.549\n",
      "INFO:tensorflow:loss = 1.14625e+12, step = 101 (0.263 sec)\n",
      "INFO:tensorflow:global_step/sec: 389.252\n",
      "INFO:tensorflow:loss = 5.37278e+11, step = 201 (0.273 sec)\n",
      "INFO:tensorflow:global_step/sec: 395.278\n",
      "INFO:tensorflow:loss = 8.27397e+11, step = 301 (0.237 sec)\n",
      "INFO:tensorflow:global_step/sec: 383.877\n",
      "INFO:tensorflow:loss = 5.33488e+11, step = 401 (0.271 sec)\n",
      "INFO:tensorflow:global_step/sec: 397.84\n",
      "INFO:tensorflow:loss = 4.79583e+11, step = 501 (0.250 sec)\n",
      "INFO:tensorflow:global_step/sec: 383.914\n",
      "INFO:tensorflow:loss = 1.12254e+11, step = 601 (0.263 sec)\n",
      "INFO:tensorflow:global_step/sec: 386.022\n",
      "INFO:tensorflow:loss = 3.1304e+11, step = 701 (0.247 sec)\n",
      "INFO:tensorflow:global_step/sec: 404.43\n",
      "INFO:tensorflow:loss = 2.99505e+11, step = 801 (0.263 sec)\n",
      "INFO:tensorflow:global_step/sec: 393.578\n",
      "INFO:tensorflow:loss = 2.34046e+11, step = 901 (0.254 sec)\n",
      "INFO:tensorflow:Saving checkpoints for 1000 into C:\\Users\\PERGO_~1\\AppData\\Local\\Temp\\tmp37ur4vub\\model.ckpt.\n",
      "INFO:tensorflow:Loss for final step: 1.71221e+11.\n",
      "INFO:tensorflow:Restoring parameters from C:\\Users\\PERGO_~1\\AppData\\Local\\Temp\\tmp37ur4vub\\model.ckpt-1000\n",
      "\n",
      " RMSE:  105430.575402\n"
     ]
    }
   ],
   "source": [
    "#imports\n",
    "import pandas as pd\n",
    "import tensorflow as tf\n",
    "\n",
    "#data\n",
    "df = pd.read_csv('../Tensorflow-Bootcamp-master/02-TensorFlow-Basics/cal_housing_clean.csv')\n",
    "print(df.columns, '\\n')\n",
    "\n",
    "#split\n",
    "X = df[['housingMedianAge', 'totalRooms', 'totalBedrooms', 'population','households', 'medianIncome']]\n",
    "y = df['medianHouseValue']\n",
    "from sklearn.model_selection import train_test_split\n",
    "X_train, X_test, y_train, y_test = train_test_split(X, y, test_size=0.33, random_state=42)\n",
    "\n",
    "#data\n",
    "from sklearn.preprocessing import MinMaxScaler\n",
    "scaler = MinMaxScaler()\n",
    "scaled_data = scaler.fit(X_train)\n",
    "scaled_X_train = scaled_data.transform(X_train)\n",
    "scaled_X_test = scaled_data.transform(X_test)\n",
    "X_train = pd.DataFrame(scaled_X_train,columns=X_train.columns,index=X_train.index)\n",
    "X_test = pd.DataFrame(scaled_X_test,columns=X_test.columns,index=X_test.index)\n",
    "housingMedianAge = tf.feature_column.numeric_column('housingMedianAge')\n",
    "totalRooms = tf.feature_column.numeric_column('totalRooms')\n",
    "totalBedrooms = tf.feature_column.numeric_column('totalBedrooms')\n",
    "population = tf.feature_column.numeric_column('population')\n",
    "households = tf.feature_column.numeric_column('households')\n",
    "medianIncome = tf.feature_column.numeric_column('medianIncome')\n",
    "\n",
    "#model\n",
    "feats_cols = [housingMedianAge, totalRooms, totalBedrooms,population,households, medianIncome]\n",
    "input_func = tf.estimator.inputs.pandas_input_fn(X_train,y_train,batch_size=20, num_epochs=None, shuffle=True)\n",
    "dnn_model = tf.estimator.DNNRegressor(hidden_units=[10,10,10], feature_columns=feats_cols)\n",
    "dnn_model.train(input_fn=input_func,steps=1000)\n",
    "\n",
    "#prediction\n",
    "pred_input_func = tf.estimator.inputs.pandas_input_fn(X_test,batch_size=100, num_epochs=1, shuffle=False)\n",
    "prediction = dnn_model.predict(input_fn=pred_input_func)\n",
    "predictions = list(prediction)\n",
    "\n",
    "#evaluation\n",
    "final_pred = []\n",
    "for x in predictions:\n",
    "    final_pred.append(x['predictions'])\n",
    "from sklearn.metrics import mean_squared_error\n",
    "RMSE = mean_squared_error(y_test,final_pred)**0.5\n",
    "print('\\n RMSE: ', RMSE)"
   ]
  }
 ],
 "metadata": {
  "kernelspec": {
   "display_name": "Python 3",
   "language": "python",
   "name": "python3"
  },
  "language_info": {
   "codemirror_mode": {
    "name": "ipython",
    "version": 3
   },
   "file_extension": ".py",
   "mimetype": "text/x-python",
   "name": "python",
   "nbconvert_exporter": "python",
   "pygments_lexer": "ipython3",
   "version": "3.5.4"
  }
 },
 "nbformat": 4,
 "nbformat_minor": 2
}
