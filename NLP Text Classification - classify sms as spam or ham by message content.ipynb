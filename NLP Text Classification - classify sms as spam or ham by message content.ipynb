{
 "cells": [
  {
   "cell_type": "markdown",
   "metadata": {},
   "source": [
    "# NLP Text Classification"
   ]
  },
  {
   "cell_type": "markdown",
   "metadata": {},
   "source": [
    "## classify sms as spam or ham by message content"
   ]
  },
  {
   "cell_type": "code",
   "execution_count": 2,
   "metadata": {},
   "outputs": [
    {
     "name": "stdout",
     "output_type": "stream",
     "text": [
      "Index(['label', 'message', 'length', 'punct'], dtype='object') \n",
      "\n",
      "             precision    recall  f1-score   support\n",
      "\n",
      "        ham       0.99      1.00      0.99      1593\n",
      "       spam       0.97      0.95      0.96       246\n",
      "\n",
      "avg / total       0.99      0.99      0.99      1839\n",
      "\n",
      "[[1586    7]\n",
      " [  12  234]] \n",
      "\n",
      "accuracy score: 0.989668297988037\n"
     ]
    }
   ],
   "source": [
    "#imports\n",
    "import numpy as np\n",
    "import pandas as pd\n",
    "\n",
    "#data\n",
    "df = pd.read_csv('../UPDATED_NLP_COURSE/TextFiles/smsspamcollection.tsv', sep='\\t')\n",
    "print(df.columns, '\\n')\n",
    "\n",
    "#split\n",
    "X = df['message']\n",
    "y = df['label']\n",
    "from sklearn.model_selection import train_test_split\n",
    "X_train, X_test, y_train, y_test = train_test_split(X, y, test_size=0.33, random_state=42)\n",
    "\n",
    "#model\n",
    "from sklearn.pipeline import Pipeline\n",
    "from sklearn.feature_extraction.text import TfidfVectorizer\n",
    "from sklearn.svm import LinearSVC\n",
    "text_clf = Pipeline([('tfidf', TfidfVectorizer()),('clf', LinearSVC()),])\n",
    "text_clf.fit(X_train, y_train)  \n",
    "predictions = text_clf.predict(X_test)\n",
    "\n",
    "#evaluation\n",
    "from sklearn import metrics\n",
    "print(metrics.classification_report(y_test,predictions))\n",
    "print(metrics.confusion_matrix(y_test,predictions), '\\n')\n",
    "print('accuracy score:', metrics.accuracy_score(y_test,predictions))"
   ]
  }
 ],
 "metadata": {
  "kernelspec": {
   "display_name": "Python 3",
   "language": "python",
   "name": "python3"
  },
  "language_info": {
   "codemirror_mode": {
    "name": "ipython",
    "version": 3
   },
   "file_extension": ".py",
   "mimetype": "text/x-python",
   "name": "python",
   "nbconvert_exporter": "python",
   "pygments_lexer": "ipython3",
   "version": "3.6.8"
  }
 },
 "nbformat": 4,
 "nbformat_minor": 2
}
