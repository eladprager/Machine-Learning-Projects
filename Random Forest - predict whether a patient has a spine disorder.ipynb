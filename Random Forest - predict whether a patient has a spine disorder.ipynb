{
 "cells": [
  {
   "cell_type": "markdown",
   "metadata": {},
   "source": [
    "# Decision Trees and Random Forests"
   ]
  },
  {
   "cell_type": "markdown",
   "metadata": {},
   "source": [
    "## predict whether a patient has a spine disorder"
   ]
  },
  {
   "cell_type": "code",
   "execution_count": 11,
   "metadata": {},
   "outputs": [
    {
     "name": "stdout",
     "output_type": "stream",
     "text": [
      "Index(['Kyphosis', 'Age', 'Number', 'Start'], dtype='object') \n",
      "\n",
      "             precision    recall  f1-score   support\n",
      "\n",
      "     absent       0.90      0.95      0.92        19\n",
      "    present       0.80      0.67      0.73         6\n",
      "\n",
      "avg / total       0.88      0.88      0.88        25\n",
      " \n",
      "\n",
      "[[18  1]\n",
      " [ 2  4]] \n",
      "\n",
      "             precision    recall  f1-score   support\n",
      "\n",
      "     absent       0.86      1.00      0.93        19\n",
      "    present       1.00      0.50      0.67         6\n",
      "\n",
      "avg / total       0.90      0.88      0.86        25\n",
      " \n",
      "\n",
      "[[19  0]\n",
      " [ 3  3]] \n",
      "\n"
     ]
    }
   ],
   "source": [
    "#imports\n",
    "import pandas as pd\n",
    "import numpy as np\n",
    "import matplotlib.pyplot as plt\n",
    "import seaborn as sns\n",
    "%matplotlib inline\n",
    "\n",
    "#data\n",
    "df = pd.read_csv('../Refactored_Py_DS_ML_Bootcamp-master/15-Decision-Trees-and-Random-Forests/kyphosis.csv')\n",
    "print(df.columns, '\\n')\n",
    "\n",
    "#split\n",
    "X = df.drop('Kyphosis',axis=1)\n",
    "y = df['Kyphosis']\n",
    "from sklearn.model_selection import train_test_split\n",
    "X_train, X_test, y_train, y_test = train_test_split(X, y, test_size=0.30)\n",
    "\n",
    "#decision trees model\n",
    "from sklearn.tree import DecisionTreeClassifier\n",
    "dtree = DecisionTreeClassifier()\n",
    "dtree.fit(X_train,y_train)\n",
    "predictions = dtree.predict(X_test)\n",
    "\n",
    "#evaluation\n",
    "from sklearn.metrics import classification_report,confusion_matrix\n",
    "print(classification_report(y_test,predictions), '\\n')\n",
    "print(confusion_matrix(y_test,predictions), '\\n')\n",
    "\n",
    "#random forest model\n",
    "from sklearn.ensemble import RandomForestClassifier\n",
    "rfc = RandomForestClassifier(n_estimators=100)\n",
    "rfc.fit(X_train, y_train)\n",
    "rfc_pred = rfc.predict(X_test)\n",
    "\n",
    "#evaluation\n",
    "print(classification_report(y_test,rfc_pred), '\\n')\n",
    "print(confusion_matrix(y_test,rfc_pred), '\\n')"
   ]
  }
 ],
 "metadata": {
  "kernelspec": {
   "display_name": "Python 3",
   "language": "python",
   "name": "python3"
  },
  "language_info": {
   "codemirror_mode": {
    "name": "ipython",
    "version": 3
   },
   "file_extension": ".py",
   "mimetype": "text/x-python",
   "name": "python",
   "nbconvert_exporter": "python",
   "pygments_lexer": "ipython3",
   "version": "3.6.8"
  }
 },
 "nbformat": 4,
 "nbformat_minor": 2
}
