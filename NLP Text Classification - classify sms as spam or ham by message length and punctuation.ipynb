{
 "cells": [
  {
   "cell_type": "markdown",
   "metadata": {},
   "source": [
    "# NLP Text Classification"
   ]
  },
  {
   "cell_type": "markdown",
   "metadata": {},
   "source": [
    "## classify sms as spam or ham by message length and punctuation"
   ]
  },
  {
   "cell_type": "code",
   "execution_count": 8,
   "metadata": {},
   "outputs": [
    {
     "name": "stdout",
     "output_type": "stream",
     "text": [
      "Index(['label', 'message', 'length', 'punct'], dtype='object') \n",
      "\n",
      "logistic regression evaluation:\n",
      "\n",
      "             precision    recall  f1-score   support\n",
      "\n",
      "        ham       0.87      0.97      0.92      1593\n",
      "       spam       0.10      0.02      0.03       246\n",
      "\n",
      "avg / total       0.76      0.84      0.80      1839\n",
      "\n",
      "[[1547   46]\n",
      " [ 241    5]] \n",
      "\n",
      "accuracy score:  0.843936922240348 \n",
      "\n",
      "\n",
      "naive bayes evaluation:\n",
      "\n",
      "             precision    recall  f1-score   support\n",
      "\n",
      "        ham       0.87      0.99      0.93      1593\n",
      "       spam       0.00      0.00      0.00       246\n",
      "\n",
      "avg / total       0.75      0.86      0.80      1839\n",
      "\n",
      "[[1583   10]\n",
      " [ 246    0]] \n",
      "\n",
      "accuracy score: 0.8607939097335509 \n",
      "\n",
      "\n",
      "svm evaluation:\n",
      "\n",
      "             precision    recall  f1-score   support\n",
      "\n",
      "        ham       0.92      0.95      0.94      1593\n",
      "       spam       0.60      0.47      0.52       246\n",
      "\n",
      "avg / total       0.88      0.89      0.88      1839\n",
      "\n",
      "[[1515   78]\n",
      " [ 131  115]] \n",
      "\n",
      "accuracy score: 0.8863512778684067 \n",
      "\n",
      "\n"
     ]
    }
   ],
   "source": [
    "#imports\n",
    "import numpy as np\n",
    "import pandas as pd\n",
    "\n",
    "#data\n",
    "df = pd.read_csv('../UPDATED_NLP_COURSE/TextFiles/smsspamcollection.tsv', sep='\\t')\n",
    "print(df.columns , '\\n')\n",
    "\n",
    "#split\n",
    "X = df[['length','punct']]\n",
    "y = df['label']\n",
    "from sklearn.model_selection import train_test_split\n",
    "X_train, X_test, y_train, y_test = train_test_split(X, y, test_size=0.33, random_state=42)\n",
    "\n",
    "#logistic model\n",
    "from sklearn.linear_model import LogisticRegression\n",
    "lr_model = LogisticRegression(solver='lbfgs')\n",
    "lr_model.fit(X_train, y_train)\n",
    "predictions = lr_model.predict(X_test)\n",
    "\n",
    "#logistic evaluation\n",
    "from sklearn import metrics\n",
    "print('logistic regression evaluation:\\n')\n",
    "print(metrics.classification_report(y_test,predictions))\n",
    "print(metrics.confusion_matrix(y_test,predictions), '\\n')\n",
    "print('accuracy score: ', metrics.accuracy_score(y_test,predictions), '\\n\\n')\n",
    "\n",
    "#naive model\n",
    "from sklearn.naive_bayes import MultinomialNB\n",
    "nb_model = MultinomialNB()\n",
    "nb_model.fit(X_train, y_train)\n",
    "predictions = nb_model.predict(X_test)\n",
    "\n",
    "#naive evaluation\n",
    "print('naive bayes evaluation:\\n')\n",
    "print(metrics.classification_report(y_test,predictions))\n",
    "print(metrics.confusion_matrix(y_test,predictions), '\\n')\n",
    "print('accuracy score:', metrics.accuracy_score(y_test,predictions), '\\n\\n')\n",
    "\n",
    "#svm model\n",
    "from sklearn.svm import SVC\n",
    "svc_model = SVC(gamma='auto')\n",
    "svc_model.fit(X_train,y_train)\n",
    "predictions = svc_model.predict(X_test)\n",
    "\n",
    "#svm evaluation\n",
    "print('svm evaluation:\\n')\n",
    "print(metrics.classification_report(y_test,predictions))\n",
    "print(metrics.confusion_matrix(y_test,predictions), '\\n')\n",
    "print('accuracy score:', metrics.accuracy_score(y_test,predictions), '\\n\\n')"
   ]
  }
 ],
 "metadata": {
  "kernelspec": {
   "display_name": "Python 3",
   "language": "python",
   "name": "python3"
  },
  "language_info": {
   "codemirror_mode": {
    "name": "ipython",
    "version": 3
   },
   "file_extension": ".py",
   "mimetype": "text/x-python",
   "name": "python",
   "nbconvert_exporter": "python",
   "pygments_lexer": "ipython3",
   "version": "3.6.8"
  }
 },
 "nbformat": 4,
 "nbformat_minor": 2
}
