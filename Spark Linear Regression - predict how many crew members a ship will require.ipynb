{
 "cells": [
  {
   "cell_type": "markdown",
   "metadata": {
    "collapsed": true
   },
   "source": [
    "# Spark Linear Regression"
   ]
  },
  {
   "cell_type": "markdown",
   "metadata": {
    "collapsed": true
   },
   "source": [
    "## predict how many crew members a ship will require"
   ]
  },
  {
   "cell_type": "code",
   "execution_count": 8,
   "metadata": {
    "scrolled": false
   },
   "outputs": [
    {
     "name": "stdout",
     "output_type": "stream",
     "text": [
      "['Ship_name', 'Cruise_line', 'Age', 'Tonnage', 'passengers', 'length', 'cabins', 'passenger_density', 'crew'] \n",
      "\n",
      "RMSE:  0.7240993299961476\n",
      "R squared:  0.9555983155691751\n"
     ]
    }
   ],
   "source": [
    "#imports\n",
    "from pyspark.sql import SparkSession\n",
    "spark = SparkSession.builder.appName('Hyundai').getOrCreate()\n",
    "\n",
    "#data\n",
    "df = spark.read.csv('../Python-and-Spark-for-Big-Data-master/Spark_for_Machine_Learning/Linear_Regression/cruise_ship_info.csv',inferSchema=True,header=True)\n",
    "print(df.columns, '\\n')\n",
    "from pyspark.ml.feature import VectorAssembler, StringIndexer\n",
    "cruise_indexer = StringIndexer(inputCol='Cruise_line',outputCol='Cruiseindex')\n",
    "indexer = cruise_indexer.fit(df).transform(df)\n",
    "assembler = VectorAssembler(inputCols=['Cruiseindex','Age','Tonnage','passengers','length','cabins','passenger_density'],\n",
    "                            outputCol='features')\n",
    "output = assembler.transform(indexer)\n",
    "\n",
    "#split\n",
    "final_df = output.select('features','crew')\n",
    "train, test = final_df.randomSplit([0.7,0.3])\n",
    "\n",
    "#model\n",
    "from pyspark.ml.regression import LinearRegression\n",
    "lr = LinearRegression(labelCol='crew')\n",
    "model = lr.fit(train)\n",
    "results = model.evaluate(test)\n",
    "\n",
    "#evaluation\n",
    "print('RMSE: ', results.rootMeanSquaredError)\n",
    "print('R squared: ', results.r2)"
   ]
  }
 ],
 "metadata": {
  "kernelspec": {
   "display_name": "Python 3",
   "language": "python",
   "name": "python3"
  }
 },
 "nbformat": 4,
 "nbformat_minor": 2
}
