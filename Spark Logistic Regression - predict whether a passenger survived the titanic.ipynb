{
 "cells": [
  {
   "cell_type": "markdown",
   "metadata": {},
   "source": [
    "# Spark Logistic Regression"
   ]
  },
  {
   "cell_type": "markdown",
   "metadata": {},
   "source": [
    "## predict whether a passenger survived the titanic"
   ]
  },
  {
   "cell_type": "code",
   "execution_count": 3,
   "metadata": {},
   "outputs": [
    {
     "name": "stdout",
     "output_type": "stream",
     "text": [
      "['PassengerId', 'Survived', 'Pclass', 'Name', 'Sex', 'Age', 'SibSp', 'Parch', 'Ticket', 'Fare', 'Cabin', 'Embarked'] \n",
      "\n",
      "area under curve:  0.8090807888040712\n",
      "accuracy:  0.8149779735682819\n",
      "f1 score:  0.8147050144383787 \n",
      "\n"
     ]
    }
   ],
   "source": [
    "#imports\n",
    "from pyspark.sql import SparkSession\n",
    "spark = SparkSession.builder.appName('titanic').getOrCreate()\n",
    "\n",
    "#data\n",
    "data = spark.read.csv('../Python-and-Spark-for-Big-Data-master/Spark_for_Machine_Learning/Logistic_Regression/titanic.csv',inferSchema=True,header=True)\n",
    "print(data.columns, '\\n')\n",
    "from pyspark.ml.feature import (VectorAssembler,OneHotEncoder,StringIndexer)\n",
    "gender_indexer = StringIndexer(inputCol='Sex',outputCol='SexIndex')\n",
    "gender_encoder = OneHotEncoder(inputCol='SexIndex',outputCol='SexVec')\n",
    "embark_indexer = StringIndexer(inputCol='Embarked',outputCol='EmbarkIndex')\n",
    "embark_encoder = OneHotEncoder(inputCol='EmbarkIndex',outputCol='EmbarkVec')\n",
    "assembler = VectorAssembler(inputCols=['Pclass','SexVec','Age','SibSp','Parch','Fare','EmbarkVec'],\n",
    "                            outputCol='features')\n",
    "\n",
    "#split\n",
    "my_cols = data.select(['Survived','Pclass','Sex','Age','SibSp','Parch','Fare','Embarked'])\n",
    "my_final_data = my_cols.na.drop()\n",
    "train, test = my_final_data.randomSplit([0.7,.3])\n",
    "\n",
    "#model\n",
    "from pyspark.ml.classification import LogisticRegression\n",
    "from pyspark.ml import Pipeline\n",
    "log_reg_titanic = LogisticRegression(featuresCol='features',labelCol='Survived')\n",
    "pipeline = Pipeline(stages=[gender_indexer,embark_indexer,gender_encoder,embark_encoder,assembler,log_reg_titanic])\n",
    "fit_model = pipeline.fit(train)\n",
    "results = fit_model.transform(test)\n",
    "\n",
    "#evaluation\n",
    "from pyspark.ml.evaluation import BinaryClassificationEvaluator\n",
    "evaluator = BinaryClassificationEvaluator(rawPredictionCol='prediction',labelCol='Survived')\n",
    "auc = evaluator.evaluate(results)\n",
    "from pyspark.ml.evaluation import MulticlassClassificationEvaluator\n",
    "accuracy = MulticlassClassificationEvaluator(predictionCol='prediction',labelCol='Survived',metricName='accuracy')\n",
    "f1 = MulticlassClassificationEvaluator(predictionCol='prediction',labelCol='Survived',metricName='f1')\n",
    "acc = accuracy.evaluate(results)\n",
    "f1_score = f1.evaluate(results)\n",
    "print('area under curve: ',auc)\n",
    "print('accuracy: ',acc)\n",
    "print('f1 score: ',f1_score, '\\n')"
   ]
  }
 ],
 "metadata": {
  "kernelspec": {
   "display_name": "Python 3",
   "language": "python",
   "name": "python3"
  },
  "language_info": {
   "codemirror_mode": {
    "name": "ipython",
    "version": 3
   },
   "file_extension": ".py",
   "mimetype": "text/x-python",
   "name": "python",
   "nbconvert_exporter": "python",
   "pygments_lexer": "ipython3",
   "version": "3.6.8"
  }
 },
 "nbformat": 4,
 "nbformat_minor": 2
}
