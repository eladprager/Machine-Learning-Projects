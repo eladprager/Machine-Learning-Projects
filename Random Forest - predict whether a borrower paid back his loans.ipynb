{
 "cells": [
  {
   "cell_type": "markdown",
   "metadata": {},
   "source": [
    "# Decision Tree and Random Forest"
   ]
  },
  {
   "cell_type": "markdown",
   "metadata": {},
   "source": [
    "## predict whether a borrower paid back his loans"
   ]
  },
  {
   "cell_type": "code",
   "execution_count": 7,
   "metadata": {},
   "outputs": [
    {
     "name": "stdout",
     "output_type": "stream",
     "text": [
      "Index(['credit.policy', 'int.rate', 'installment', 'log.annual.inc', 'dti',\n",
      "       'fico', 'days.with.cr.line', 'revol.bal', 'revol.util',\n",
      "       'inq.last.6mths', 'delinq.2yrs', 'pub.rec', 'not.fully.paid',\n",
      "       'purpose_credit_card', 'purpose_debt_consolidation',\n",
      "       'purpose_educational', 'purpose_home_improvement',\n",
      "       'purpose_major_purchase', 'purpose_small_business'],\n",
      "      dtype='object') \n",
      "\n",
      "             precision    recall  f1-score   support\n",
      "\n",
      "          0       0.85      0.82      0.84      2431\n",
      "          1       0.18      0.22      0.20       443\n",
      "\n",
      "avg / total       0.75      0.73      0.74      2874\n",
      " \n",
      "\n",
      "[[1992  439]\n",
      " [ 346   97]] \n",
      "\n",
      "             precision    recall  f1-score   support\n",
      "\n",
      "          0       0.85      1.00      0.92      2431\n",
      "          1       0.59      0.02      0.04       443\n",
      "\n",
      "avg / total       0.81      0.85      0.78      2874\n",
      " \n",
      "\n",
      "[[2424    7]\n",
      " [ 433   10]] \n",
      "\n"
     ]
    }
   ],
   "source": [
    "#imports\n",
    "import numpy as np\n",
    "import pandas as pd\n",
    "import matplotlib.pyplot as plt\n",
    "import seaborn as sns\n",
    "%matplotlib inline\n",
    "\n",
    "#data\n",
    "loans = pd.read_csv('../Refactored_Py_DS_ML_Bootcamp-master/15-Decision-Trees-and-Random-Forests/loan_data.csv')\n",
    "print(df.columns, '\\n')\n",
    "df=pd.get_dummies(loans,columns=['purpose'],drop_first=True)\n",
    "\n",
    "#split\n",
    "X=df.drop(['not.fully.paid'],axis=1)\n",
    "y=df['not.fully.paid']\n",
    "from sklearn.model_selection import train_test_split\n",
    "X_train, X_test, y_train, y_test = train_test_split(X, y, test_size=0.30, random_state=101)\n",
    "\n",
    "#model\n",
    "from sklearn.tree import DecisionTreeClassifier\n",
    "dtree = DecisionTreeClassifier()\n",
    "dtree.fit(X_train,y_train)\n",
    "pred = dtree.predict(X_test)\n",
    "\n",
    "#decision tree evaluation\n",
    "from sklearn import metrics\n",
    "print(metrics.classification_report(y_test,pred), '\\n')\n",
    "print(metrics.confusion_matrix(y_test,pred), '\\n')\n",
    "\n",
    "#random forest model\n",
    "from sklearn.ensemble import RandomForestClassifier\n",
    "rfc = RandomForestClassifier(n_estimators=600)\n",
    "rfc.fit(X_train,y_train)\n",
    "pred2 = rfc.predict(X_test)\n",
    "\n",
    "#evaluation\n",
    "print(metrics.classification_report(y_test,pred2), '\\n')\n",
    "print(metrics.confusion_matrix(y_test,pred2), '\\n')"
   ]
  }
 ],
 "metadata": {
  "kernelspec": {
   "display_name": "Python 3",
   "language": "python",
   "name": "python3"
  },
  "language_info": {
   "codemirror_mode": {
    "name": "ipython",
    "version": 3
   },
   "file_extension": ".py",
   "mimetype": "text/x-python",
   "name": "python",
   "nbconvert_exporter": "python",
   "pygments_lexer": "ipython3",
   "version": "3.6.8"
  }
 },
 "nbformat": 4,
 "nbformat_minor": 2
}
