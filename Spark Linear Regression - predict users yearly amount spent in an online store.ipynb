{
 "cells": [
  {
   "cell_type": "markdown",
   "metadata": {
    "collapsed": true
   },
   "source": [
    "# Spark Linear Regression"
   ]
  },
  {
   "cell_type": "markdown",
   "metadata": {
    "collapsed": true
   },
   "source": [
    "## predict users yearly amount spent in an online store"
   ]
  },
  {
   "cell_type": "code",
   "execution_count": 8,
   "metadata": {
    "scrolled": true
   },
   "outputs": [
    {
     "name": "stdout",
     "output_type": "stream",
     "text": [
      "['Email', 'Address', 'Avatar', 'Avg Session Length', 'Time on App', 'Time on Website', 'Length of Membership', 'Yearly Amount Spent'] \n",
      "\n",
      "Coefficients: [25.93112293148075,38.80091411494936,0.19732981286464138,61.43933587829163] Intercept: -1050.156190755293 \n",
      "\n",
      "RMSE: 9.362446095539882\n"
     ]
    }
   ],
   "source": [
    "#imports\n",
    "from pyspark.sql import SparkSession\n",
    "spark = SparkSession.builder.appName('lr_example').getOrCreate()\n",
    "\n",
    "#data\n",
    "data = spark.read.csv(\"../Python-and-Spark-for-Big-Data-master/Spark_for_Machine_Learning/Linear_Regression/Ecommerce_Customers.csv\",inferSchema=True,header=True)\n",
    "print(data.columns, '\\n')\n",
    "from pyspark.ml.feature import VectorAssembler\n",
    "assembler = VectorAssembler(inputCols=[\"Avg Session Length\", \"Time on App\",\"Time on Website\",'Length of Membership'],\n",
    "                            outputCol=\"features\")\n",
    "output = assembler.transform(data)\n",
    "\n",
    "#split\n",
    "final_data = output.select(\"features\",'Yearly Amount Spent')\n",
    "train_data,test_data = final_data.randomSplit([0.7,0.3])\n",
    "\n",
    "#model\n",
    "from pyspark.ml.regression import LinearRegression\n",
    "lr = LinearRegression(labelCol='Yearly Amount Spent')\n",
    "lrModel = lr.fit(train_data)\n",
    "print(\"Coefficients: {} Intercept: {}\".format(lrModel.coefficients,lrModel.intercept), '\\n')\n",
    "test_results = lrModel.evaluate(test_data)\n",
    "\n",
    "#evaluation\n",
    "print(\"RMSE: {}\".format(test_results.rootMeanSquaredError))\n",
    "\n",
    "#prediction\n",
    "unlabeled_data = test_data.select('features')\n",
    "predictions = lrModel.transform(unlabeled_data)"
   ]
  }
 ],
 "metadata": {
  "kernelspec": {
   "display_name": "Python 3",
   "language": "python",
   "name": "python3"
  },
  "language_info": {
   "codemirror_mode": {
    "name": "ipython",
    "version": 3
   },
   "file_extension": ".py",
   "mimetype": "text/x-python",
   "name": "python",
   "nbconvert_exporter": "python",
   "pygments_lexer": "ipython3",
   "version": "3.6.8"
  }
 },
 "nbformat": 4,
 "nbformat_minor": 2
}
