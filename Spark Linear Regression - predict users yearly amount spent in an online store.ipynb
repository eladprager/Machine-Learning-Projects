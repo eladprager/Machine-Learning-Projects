{
 "cells": [
  {
   "cell_type": "markdown",
   "metadata": {
    "collapsed": true
   },
   "source": [
    "# Spark Linear Regression"
   ]
  },
  {
   "cell_type": "markdown",
   "metadata": {
    "collapsed": true
   },
   "source": [
    "## predict users yearly amount spent in an online store"
   ]
  },
  {
   "cell_type": "code",
   "execution_count": 1,
   "metadata": {
    "scrolled": true
   },
   "outputs": [
    {
     "name": "stdout",
     "output_type": "stream",
     "text": [
      "['Email', 'Address', 'Avatar', 'Avg Session Length', 'Time on App', 'Time on Website', 'Length of Membership', 'Yearly Amount Spent'] \n",
      "\n",
      "Coefficients: [25.71828860041214,39.39688256432399,0.850594797624011,61.819691080342] Intercept: -1075.241155072383 \n",
      "\n",
      "RMSE: 10.451504874727734\n",
      "R squared: 0.9824548099935586\n"
     ]
    }
   ],
   "source": [
    "#imports\n",
    "from pyspark.sql import SparkSession\n",
    "spark = SparkSession.builder.appName('lr_example').getOrCreate()\n",
    "\n",
    "#data\n",
    "data = spark.read.csv(\"../Python-and-Spark-for-Big-Data-master/Spark_for_Machine_Learning/Linear_Regression/Ecommerce_Customers.csv\",inferSchema=True,header=True)\n",
    "print(data.columns, '\\n')\n",
    "from pyspark.ml.feature import VectorAssembler\n",
    "assembler = VectorAssembler(inputCols=[\"Avg Session Length\", \"Time on App\",\"Time on Website\",'Length of Membership'],\n",
    "                            outputCol=\"features\")\n",
    "output = assembler.transform(data)\n",
    "\n",
    "#split\n",
    "final_data = output.select(\"features\",'Yearly Amount Spent')\n",
    "train,test = final_data.randomSplit([0.7,0.3])\n",
    "\n",
    "#model\n",
    "from pyspark.ml.regression import LinearRegression\n",
    "lr = LinearRegression(labelCol='Yearly Amount Spent')\n",
    "lrModel = lr.fit(train)\n",
    "print(\"Coefficients: {} Intercept: {}\".format(lrModel.coefficients,lrModel.intercept), '\\n')\n",
    "test_results = lrModel.evaluate(test)\n",
    "\n",
    "#evaluation\n",
    "print(\"RMSE: {}\".format(test_results.rootMeanSquaredError))\n",
    "print(\"R squared: {}\".format(test_results.r2))\n",
    "\n",
    "#prediction\n",
    "unlabeled_data = test.select('features')\n",
    "predictions = lrModel.transform(unlabeled_data)"
   ]
  }
 ],
 "metadata": {
  "kernelspec": {
   "display_name": "Python 3",
   "language": "python",
   "name": "python3"
  },
  "language_info": {
   "codemirror_mode": {
    "name": "ipython",
    "version": 3
   },
   "file_extension": ".py",
   "mimetype": "text/x-python",
   "name": "python",
   "nbconvert_exporter": "python",
   "pygments_lexer": "ipython3",
   "version": "3.6.8"
  }
 },
 "nbformat": 4,
 "nbformat_minor": 2
}
