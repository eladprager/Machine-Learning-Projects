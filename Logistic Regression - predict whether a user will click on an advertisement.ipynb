{
 "cells": [
  {
   "cell_type": "markdown",
   "metadata": {},
   "source": [
    " # Logistic Regression"
   ]
  },
  {
   "cell_type": "markdown",
   "metadata": {},
   "source": [
    "## predict whether a user will click on an advertisement"
   ]
  },
  {
   "cell_type": "code",
   "execution_count": 2,
   "metadata": {},
   "outputs": [
    {
     "name": "stdout",
     "output_type": "stream",
     "text": [
      "Index(['Daily Time Spent on Site', 'Age', 'Area Income',\n",
      "       'Daily Internet Usage', 'Ad Topic Line', 'City', 'Male', 'Country',\n",
      "       'Timestamp', 'Clicked on Ad'],\n",
      "      dtype='object') \n",
      "\n",
      "             precision    recall  f1-score   support\n",
      "\n",
      "          0       0.87      0.96      0.91       162\n",
      "          1       0.96      0.86      0.91       168\n",
      "\n",
      "avg / total       0.91      0.91      0.91       330\n",
      " \n",
      "\n",
      "[[156   6]\n",
      " [ 24 144]] \n",
      "\n"
     ]
    }
   ],
   "source": [
    "#imports\n",
    "import numpy as np\n",
    "import pandas as pd\n",
    "import matplotlib.pyplot as plt\n",
    "import seaborn as sns\n",
    "%matplotlib inline\n",
    "\n",
    "#data\n",
    "ad_data = pd.read_csv('../Refactored_Py_DS_ML_Bootcamp-master/13-Logistic-Regression/advertising.csv')\n",
    "print(ad_data.columns, '\\n')\n",
    "\n",
    "#split\n",
    "X = ad_data[['Daily Time Spent on Site','Age','Area Income','Daily Internet Usage','Male']]\n",
    "y = ad_data['Clicked on Ad']\n",
    "from sklearn.model_selection import train_test_split\n",
    "X_train, X_test, y_train, y_test = train_test_split(X, y, test_size=0.33, random_state=42)\n",
    "\n",
    "#model\n",
    "from sklearn.linear_model import LogisticRegression\n",
    "log_reg = LogisticRegression()\n",
    "log_reg.fit(X_train,y_train)\n",
    "pred = log_reg.predict(X_test)\n",
    "\n",
    "#evaluation\n",
    "from sklearn import metrics\n",
    "print(metrics.classification_report(y_test,pred), '\\n')\n",
    "print(metrics.confusion_matrix(y_test,pred), '\\n')"
   ]
  }
 ],
 "metadata": {
  "kernelspec": {
   "display_name": "Python 3",
   "language": "python",
   "name": "python3"
  },
  "language_info": {
   "codemirror_mode": {
    "name": "ipython",
    "version": 3
   },
   "file_extension": ".py",
   "mimetype": "text/x-python",
   "name": "python",
   "nbconvert_exporter": "python",
   "pygments_lexer": "ipython3",
   "version": "3.6.8"
  }
 },
 "nbformat": 4,
 "nbformat_minor": 2
}
